{
 "cells": [
  {
   "cell_type": "code",
   "execution_count": 2,
   "metadata": {},
   "outputs": [],
   "source": [
    "import numpy as np\n",
    "%matplotlib inline \n",
    "from matplotlib import pyplot as plt # for displaying graphs\n",
    "from IPython.display import clear_output"
   ]
  },
  {
   "cell_type": "code",
   "execution_count": 3,
   "metadata": {},
   "outputs": [],
   "source": [
    "file_train_X = np.loadtxt(fname = \"trainX.txt\")\n",
    "file_train_Y = np.loadtxt(fname = \"trainY.txt\")\n",
    "file_test_X = np.loadtxt(fname = \"testX.txt\")\n",
    "file_test_Y= np.loadtxt(fname = \"testY.txt\")"
   ]
  },
  {
   "cell_type": "code",
   "execution_count": 4,
   "metadata": {
    "scrolled": true
   },
   "outputs": [
    {
     "name": "stdout",
     "output_type": "stream",
     "text": [
      "(500, 256)\n"
     ]
    }
   ],
   "source": [
    "print(file_train_X.shape)\n",
    "total_participants= file_train_X.shape[0]\n",
    "half_row_Train_X=int (total_participants/2)"
   ]
  },
  {
   "cell_type": "code",
   "execution_count": 5,
   "metadata": {},
   "outputs": [],
   "source": [
    "# First half Y value is two\n",
    "two_train=(file_train_X[:(half_row_Train_X),:])"
   ]
  },
  {
   "cell_type": "code",
   "execution_count": 6,
   "metadata": {},
   "outputs": [],
   "source": [
    "# Proability of two wrt one and zero\n",
    "two_one_prob=two_train.sum(axis=0)/two_train.shape[0]\n",
    "two_zero_prob=1-two_one_prob"
   ]
  },
  {
   "cell_type": "code",
   "execution_count": 7,
   "metadata": {},
   "outputs": [],
   "source": [
    "# second half Y value is four\n",
    "four_train=(file_train_X[half_row_Train_X:total_participants,:])"
   ]
  },
  {
   "cell_type": "code",
   "execution_count": 8,
   "metadata": {},
   "outputs": [],
   "source": [
    "# Proability of four wrt one and zero\n",
    "four_one_prob=four_train.sum(axis=0)/four_train.shape[0]\n",
    "four_zero_prob=1-four_one_prob"
   ]
  },
  {
   "cell_type": "code",
   "execution_count": 9,
   "metadata": {},
   "outputs": [
    {
     "name": "stdout",
     "output_type": "stream",
     "text": [
      "(100, 256)\n"
     ]
    }
   ],
   "source": [
    "print(file_test_X.shape)"
   ]
  },
  {
   "cell_type": "code",
   "execution_count": 10,
   "metadata": {},
   "outputs": [
    {
     "name": "stdout",
     "output_type": "stream",
     "text": [
      "two prob : 0.0\n",
      "four prob : 9.138955860665083e-41\n",
      "It is four\n"
     ]
    },
    {
     "data": {
      "image/png": "[encoded data removed]",
      "text/plain": [
       "<Figure size 432x288 with 1 Axes>"
      ]
     },
     "metadata": {
      "needs_background": "light"
     },
     "output_type": "display_data"
    }
   ],
   "source": [
    "# Taking any row index value of test data\n",
    "TP=FP=TN=FN=0\n",
    "var=0\n",
    "for value in range (0,100):\n",
    "    img=(file_test_X[value,])\n",
    "    output=int(file_test_Y[value])\n",
    "     #print(img)\n",
    "    \n",
    "    # calculating probabilty wrt to two\n",
    "    prob_two_mul=1\n",
    "    index=0\n",
    "    for each in img:\n",
    "        if(each==0):\n",
    "            prob_two_mul=prob_two_mul*(two_zero_prob[index])\n",
    "        elif(each==1):\n",
    "            prob_two_mul=prob_two_mul*two_one_prob[index]\n",
    "        index+=1\n",
    "    print(\"two prob :\",prob_two_mul)\n",
    "            \n",
    "    # calculating probabilty wrt to four\n",
    "\n",
    "    prob_four_mul=1\n",
    "    index=0\n",
    "    for each in img:\n",
    "        if(each==0):\n",
    "             prob_four_mul=prob_four_mul*(four_zero_prob[index])\n",
    "        elif(each==1):\n",
    "            prob_four_mul=prob_four_mul*four_one_prob[index]\n",
    "        index+=1\n",
    "    print(\"four prob :\",prob_four_mul)\n",
    "    \n",
    "    # image resize\n",
    "    img5=np.reshape(img,(16,16),order='F')\n",
    "    img5.shape\n",
    "    \n",
    "    # show image\n",
    "    plt.imshow(img5)\n",
    "\n",
    "    if(prob_two_mul>prob_four_mul):\n",
    "        print(\"It is two\") \n",
    "        var=2\n",
    "    elif(prob_two_mul<prob_four_mul):\n",
    "        print(\"It is four\")\n",
    "        var=4\n",
    "    else:\n",
    "        print(\"It is may be two or four\")\n",
    "        \n",
    "    # finding accuracy\n",
    "    if(var==output and var==2):\n",
    "        TP+=1\n",
    "    if(var==output and var==4):\n",
    "        TN+=1\n",
    "    if(output==4):\n",
    "        if(var==2):\n",
    "            FP+=1\n",
    "    if(output==2):\n",
    "        if(var==4):\n",
    "            FN+=1\n",
    "    \n",
    "    plt.pause(0.001)\n",
    "    \n",
    "    #inp=input(\"Press '1' to exit or press [enter] to continue for next participant: \")\n",
    "    #if(inp=='1'):\n",
    "    #    break\n",
    "    #else:\n",
    "    clear_output(wait=True)"
   ]
  },
  {
   "cell_type": "code",
   "execution_count": 11,
   "metadata": {},
   "outputs": [
    {
     "name": "stdout",
     "output_type": "stream",
     "text": [
      "1.0\n"
     ]
    }
   ],
   "source": [
    "Accuracy = (TP+TN)/(TP+TN+FN+FP)\n",
    "print(Accuracy)"
   ]
  },
  {
   "cell_type": "code",
   "execution_count": 12,
   "metadata": {},
   "outputs": [
    {
     "name": "stdout",
     "output_type": "stream",
     "text": [
      "1.0\n"
     ]
    }
   ],
   "source": [
    "Recall=TP/(TP+FN)\n",
    "print(Recall)"
   ]
  },
  {
   "cell_type": "code",
   "execution_count": 13,
   "metadata": {},
   "outputs": [
    {
     "name": "stdout",
     "output_type": "stream",
     "text": [
      "1.0\n"
     ]
    }
   ],
   "source": [
    "Precision=TP/(TP+FP)\n",
    "print(Precision)"
   ]
  },
  {
   "cell_type": "code",
   "execution_count": null,
   "metadata": {},
   "outputs": [],
   "source": []
  }
 ],
 "metadata": {
  "kernelspec": {
   "display_name": "Python 3",
   "language": "python",
   "name": "python3"
  },
  "language_info": {
   "codemirror_mode": {
    "name": "ipython",
    "version": 3
   },
   "file_extension": ".py",
   "mimetype": "text/x-python",
   "name": "python",
   "nbconvert_exporter": "python",
   "pygments_lexer": "ipython3",
   "version": "3.7.6"
  }
 },
 "nbformat": 4,
 "nbformat_minor": 4
}
